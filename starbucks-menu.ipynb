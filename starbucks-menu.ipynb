{
 "cells": [
  {
   "cell_type": "code",
   "execution_count": 1,
   "id": "3a5ddf6c-8834-4b47-8645-ffd3d273acf0",
   "metadata": {},
   "outputs": [],
   "source": [
    "#### https://www.kaggle.com/datasets/starbucks/starbucks-menu?select=starbucks_drinkMenu_expanded.csv"
   ]
  },
  {
   "cell_type": "code",
   "execution_count": 2,
   "id": "d5f0642c-c9b2-4823-9369-1d14bf824dab",
   "metadata": {},
   "outputs": [],
   "source": [
    "import pandas as pd\n",
    "\n",
    "df = pd.read_csv('starbucks_drinkMenu_expanded.csv')"
   ]
  },
  {
   "cell_type": "code",
   "execution_count": 3,
   "id": "ee7515f1-fe49-4f46-8dc6-07e5b1ff0a43",
   "metadata": {},
   "outputs": [
    {
     "name": "stdout",
     "output_type": "stream",
     "text": [
      "No. of Rows:  242\n",
      "No. of Columns: 18\n"
     ]
    }
   ],
   "source": [
    "print(f'No. of Rows:  {df.shape[0]}')\n",
    "print (f'No. of Columns: {df.shape[1]}')"
   ]
  },
  {
   "cell_type": "code",
   "execution_count": 4,
   "id": "724399a4-455b-4e1b-8343-17af8624a0b4",
   "metadata": {},
   "outputs": [
    {
     "name": "stdout",
     "output_type": "stream",
     "text": [
      "Beverage_category             object\n",
      "Beverage                      object\n",
      "Beverage_prep                 object\n",
      "Calories                       int64\n",
      " Total Fat (g)                object\n",
      "Trans Fat (g)                float64\n",
      "Saturated Fat (g)            float64\n",
      " Sodium (mg)                   int64\n",
      " Total Carbohydrates (g)       int64\n",
      "Cholesterol (mg)               int64\n",
      " Dietary Fibre (g)             int64\n",
      " Sugars (g)                    int64\n",
      " Protein (g)                 float64\n",
      "Vitamin A (% DV)              object\n",
      "Vitamin C (% DV)              object\n",
      " Calcium (% DV)               object\n",
      "Iron (% DV)                   object\n",
      "Caffeine (mg)                 object\n",
      "dtype: object\n"
     ]
    }
   ],
   "source": [
    "print(df.dtypes)"
   ]
  },
  {
   "cell_type": "code",
   "execution_count": 5,
   "id": "0ae914b8-7e8c-4eef-b525-f1fcb4af2c30",
   "metadata": {},
   "outputs": [
    {
     "name": "stdout",
     "output_type": "stream",
     "text": [
      "First 5 rows:\n",
      "         Beverage_category       Beverage      Beverage_prep  Calories  \\\n",
      "0                   Coffee  Brewed Coffee              Short         3   \n",
      "1                   Coffee  Brewed Coffee               Tall         4   \n",
      "2                   Coffee  Brewed Coffee             Grande         5   \n",
      "3                   Coffee  Brewed Coffee              Venti         5   \n",
      "4  Classic Espresso Drinks    Caffè Latte  Short Nonfat Milk        70   \n",
      "\n",
      "   Total Fat (g)  Trans Fat (g)   Saturated Fat (g)   Sodium (mg)  \\\n",
      "0            0.1             0.0                0.0             0   \n",
      "1            0.1             0.0                0.0             0   \n",
      "2            0.1             0.0                0.0             0   \n",
      "3            0.1             0.0                0.0             0   \n",
      "4            0.1             0.1                0.0             5   \n",
      "\n",
      "    Total Carbohydrates (g)   Cholesterol (mg)   Dietary Fibre (g)  \\\n",
      "0                          5                 0                   0   \n",
      "1                         10                 0                   0   \n",
      "2                         10                 0                   0   \n",
      "3                         10                 0                   0   \n",
      "4                         75                10                   0   \n",
      "\n",
      "    Sugars (g)   Protein (g)  Vitamin A (% DV)  Vitamin C (% DV)  \\\n",
      "0            0            0.3                0%               0%   \n",
      "1            0            0.5                0%               0%   \n",
      "2            0            1.0                0%               0%   \n",
      "3            0            1.0                0%               0%   \n",
      "4            9            6.0               10%               0%   \n",
      "\n",
      "   Calcium (% DV)  Iron (% DV)  Caffeine (mg)  \n",
      "0               0%           0%           175  \n",
      "1               0%           0%           260  \n",
      "2               0%           0%           330  \n",
      "3               2%           0%           410  \n",
      "4              20%           0%            75  \n"
     ]
    }
   ],
   "source": [
    "#First 5 rows\n",
    "print(\"First 5 rows:\")\n",
    "print(df.head(5))"
   ]
  },
  {
   "cell_type": "code",
   "execution_count": 7,
   "id": "cc1aa6fb-9b2e-488a-a89e-c68498e4795d",
   "metadata": {},
   "outputs": [],
   "source": [
    "# Replace \"Varies\" and blanks in Caffeine column with NaN\n",
    "df['Caffeine (mg)'] = pd.to_numeric(df['Caffeine (mg)'], errors='coerce')"
   ]
  },
  {
   "cell_type": "code",
   "execution_count": 8,
   "id": "0fb3d246-8670-4986-a3c9-23edf21a40bb",
   "metadata": {},
   "outputs": [],
   "source": [
    "# Remove % with numbers\n",
    "for col in ['Vitamin A (% DV) ', 'Vitamin C (% DV)', ' Calcium (% DV) ', 'Iron (% DV) ']:\n",
    "    df[col] = df[col].astype(str).str.replace('%', '').astype(float)\n",
    "\n"
   ]
  },
  {
   "cell_type": "code",
   "execution_count": 9,
   "id": "51b00cc0-0c37-4b61-9db5-6a95fd5d3e8d",
   "metadata": {},
   "outputs": [
    {
     "name": "stdout",
     "output_type": "stream",
     "text": [
      "First 5 rows:\n",
      "         Beverage_category       Beverage      Beverage_prep  Calories  \\\n",
      "0                   Coffee  Brewed Coffee              Short         3   \n",
      "1                   Coffee  Brewed Coffee               Tall         4   \n",
      "2                   Coffee  Brewed Coffee             Grande         5   \n",
      "3                   Coffee  Brewed Coffee              Venti         5   \n",
      "4  Classic Espresso Drinks    Caffè Latte  Short Nonfat Milk        70   \n",
      "\n",
      "   Total Fat (g)  Trans Fat (g)   Saturated Fat (g)   Sodium (mg)  \\\n",
      "0            0.1             0.0                0.0             0   \n",
      "1            0.1             0.0                0.0             0   \n",
      "2            0.1             0.0                0.0             0   \n",
      "3            0.1             0.0                0.0             0   \n",
      "4            0.1             0.1                0.0             5   \n",
      "\n",
      "    Total Carbohydrates (g)   Cholesterol (mg)   Dietary Fibre (g)  \\\n",
      "0                          5                 0                   0   \n",
      "1                         10                 0                   0   \n",
      "2                         10                 0                   0   \n",
      "3                         10                 0                   0   \n",
      "4                         75                10                   0   \n",
      "\n",
      "    Sugars (g)   Protein (g)   Vitamin A (% DV)   Vitamin C (% DV)  \\\n",
      "0            0            0.3                0.0               0.0   \n",
      "1            0            0.5                0.0               0.0   \n",
      "2            0            1.0                0.0               0.0   \n",
      "3            0            1.0                0.0               0.0   \n",
      "4            9            6.0               10.0               0.0   \n",
      "\n",
      "    Calcium (% DV)   Iron (% DV)   Caffeine (mg)  \n",
      "0               0.0           0.0          175.0  \n",
      "1               0.0           0.0          260.0  \n",
      "2               0.0           0.0          330.0  \n",
      "3               2.0           0.0          410.0  \n",
      "4              20.0           0.0           75.0  \n"
     ]
    }
   ],
   "source": [
    "#First 5 rows\n",
    "print(\"First 5 rows:\")\n",
    "print(df.head(5))"
   ]
  },
  {
   "cell_type": "code",
   "execution_count": 10,
   "id": "c584b09e-382f-47dd-b7b2-acdc3414ff67",
   "metadata": {},
   "outputs": [
    {
     "data": {
      "image/png": "[encoded data removed]",
      "text/plain": [
       "<Figure size 640x480 with 1 Axes>"
      ]
     },
     "metadata": {},
     "output_type": "display_data"
    }
   ],
   "source": [
    "import matplotlib.pyplot as plt\n",
    "import seaborn as sns\n",
    "\n",
    "sns.histplot(df['Caffeine (mg)'], bins=20)\n",
    "plt.show()\n"
   ]
  },
  {
   "cell_type": "code",
   "execution_count": 11,
   "id": "b3120bd5-9828-41ce-91d5-8a6aab5c257e",
   "metadata": {},
   "outputs": [],
   "source": [
    "df.to_csv('starbucks_Menu.csv', index=False)\n"
   ]
  },
  {
   "cell_type": "code",
   "execution_count": 12,
   "id": "871a9490-c2db-4b3b-9fbd-3e05c90fbd13",
   "metadata": {},
   "outputs": [],
   "source": [
    "df_new = pd.read_csv('starbucks_Menu.csv')"
   ]
  },
  {
   "cell_type": "code",
   "execution_count": 13,
   "id": "179056b3-8d6b-4511-bbcf-033d92cb5253",
   "metadata": {},
   "outputs": [
    {
     "name": "stdout",
     "output_type": "stream",
     "text": [
      "No. of Rows:  242\n",
      "No. of Columns: 18\n"
     ]
    }
   ],
   "source": [
    "print(f'No. of Rows:  {df.shape[0]}')\n",
    "print (f'No. of Columns: {df.shape[1]}')"
   ]
  },
  {
   "cell_type": "code",
   "execution_count": 14,
   "id": "551025b0-da9c-44ca-9f27-9e6062cd3eee",
   "metadata": {},
   "outputs": [
    {
     "name": "stdout",
     "output_type": "stream",
     "text": [
      "Beverage_category             object\n",
      "Beverage                      object\n",
      "Beverage_prep                 object\n",
      "Calories                       int64\n",
      " Total Fat (g)                object\n",
      "Trans Fat (g)                float64\n",
      "Saturated Fat (g)            float64\n",
      " Sodium (mg)                   int64\n",
      " Total Carbohydrates (g)       int64\n",
      "Cholesterol (mg)               int64\n",
      " Dietary Fibre (g)             int64\n",
      " Sugars (g)                    int64\n",
      " Protein (g)                 float64\n",
      "Vitamin A (% DV)             float64\n",
      "Vitamin C (% DV)             float64\n",
      " Calcium (% DV)              float64\n",
      "Iron (% DV)                  float64\n",
      "Caffeine (mg)                float64\n",
      "dtype: object\n"
     ]
    }
   ],
   "source": [
    "print(df.dtypes)"
   ]
  },
  {
   "cell_type": "code",
   "execution_count": null,
   "id": "1e07ba99-0609-434a-bca8-876b28e43775",
   "metadata": {},
   "outputs": [],
   "source": []
  },
  {
   "cell_type": "code",
   "execution_count": null,
   "id": "4ad31aed-0a60-4990-94d1-d3e9b6e823b3",
   "metadata": {},
   "outputs": [],
   "source": []
  }
 ],
 "metadata": {
  "kernelspec": {
   "display_name": "Python 3 (ipykernel)",
   "language": "python",
   "name": "python3"
  },
  "language_info": {
   "codemirror_mode": {
    "name": "ipython",
    "version": 3
   },
   "file_extension": ".py",
   "mimetype": "text/x-python",
   "name": "python",
   "nbconvert_exporter": "python",
   "pygments_lexer": "ipython3",
   "version": "3.8.19"
  }
 },
 "nbformat": 4,
 "nbformat_minor": 5
}
